{
 "cells": [
  {
   "cell_type": "markdown",
   "id": "662a0263-c8c4-4cfa-b818-321f400a567e",
   "metadata": {},
   "source": [
    "<!-- IMPORT  LIBRARIES  -->"
   ]
  },
  {
   "cell_type": "code",
   "execution_count": 29,
   "id": "fb65c9dc-077c-494b-b74a-3b108be5156c",
   "metadata": {},
   "outputs": [],
   "source": [
    "import numpy as np\n",
    "import pandas as pd\n",
    "import seaborn as sns\n",
    "import matplotlib.pyplot as plt"
   ]
  },
  {
   "cell_type": "code",
   "execution_count": null,
   "id": "eb710288-a4a5-4946-9f87-2821e37c7efc",
   "metadata": {},
   "outputs": [],
   "source": [
    "# NOW CEART A DATA FRAME AND LOAD ZOMATO DATA FILE"
   ]
  },
  {
   "cell_type": "code",
   "execution_count": 3,
   "id": "a62c3980-b4cc-4e8b-b731-8da841d93d23",
   "metadata": {},
   "outputs": [
    {
     "data": {
      "text/html": [
       "<div>\n",
       "<style scoped>\n",
       "    .dataframe tbody tr th:only-of-type {\n",
       "        vertical-align: middle;\n",
       "    }\n",
       "\n",
       "    .dataframe tbody tr th {\n",
       "        vertical-align: top;\n",
       "    }\n",
       "\n",
       "    .dataframe thead th {\n",
       "        text-align: right;\n",
       "    }\n",
       "</style>\n",
       "<table border=\"1\" class=\"dataframe\">\n",
       "  <thead>\n",
       "    <tr style=\"text-align: right;\">\n",
       "      <th></th>\n",
       "      <th>name</th>\n",
       "      <th>online_order</th>\n",
       "      <th>book_table</th>\n",
       "      <th>rate</th>\n",
       "      <th>votes</th>\n",
       "      <th>approx_cost(for two people)</th>\n",
       "      <th>listed_in(type)</th>\n",
       "    </tr>\n",
       "  </thead>\n",
       "  <tbody>\n",
       "    <tr>\n",
       "      <th>0</th>\n",
       "      <td>Jalsa</td>\n",
       "      <td>Yes</td>\n",
       "      <td>Yes</td>\n",
       "      <td>4.1/5</td>\n",
       "      <td>775</td>\n",
       "      <td>800</td>\n",
       "      <td>Buffet</td>\n",
       "    </tr>\n",
       "    <tr>\n",
       "      <th>1</th>\n",
       "      <td>Spice Elephant</td>\n",
       "      <td>Yes</td>\n",
       "      <td>No</td>\n",
       "      <td>4.1/5</td>\n",
       "      <td>787</td>\n",
       "      <td>800</td>\n",
       "      <td>Buffet</td>\n",
       "    </tr>\n",
       "    <tr>\n",
       "      <th>2</th>\n",
       "      <td>San Churro Cafe</td>\n",
       "      <td>Yes</td>\n",
       "      <td>No</td>\n",
       "      <td>3.8/5</td>\n",
       "      <td>918</td>\n",
       "      <td>800</td>\n",
       "      <td>Buffet</td>\n",
       "    </tr>\n",
       "    <tr>\n",
       "      <th>3</th>\n",
       "      <td>Addhuri Udupi Bhojana</td>\n",
       "      <td>No</td>\n",
       "      <td>No</td>\n",
       "      <td>3.7/5</td>\n",
       "      <td>88</td>\n",
       "      <td>300</td>\n",
       "      <td>Buffet</td>\n",
       "    </tr>\n",
       "    <tr>\n",
       "      <th>4</th>\n",
       "      <td>Grand Village</td>\n",
       "      <td>No</td>\n",
       "      <td>No</td>\n",
       "      <td>3.8/5</td>\n",
       "      <td>166</td>\n",
       "      <td>600</td>\n",
       "      <td>Buffet</td>\n",
       "    </tr>\n",
       "  </tbody>\n",
       "</table>\n",
       "</div>"
      ],
      "text/plain": [
       "                    name online_order book_table   rate  votes  \\\n",
       "0                  Jalsa          Yes        Yes  4.1/5    775   \n",
       "1         Spice Elephant          Yes         No  4.1/5    787   \n",
       "2        San Churro Cafe          Yes         No  3.8/5    918   \n",
       "3  Addhuri Udupi Bhojana           No         No  3.7/5     88   \n",
       "4          Grand Village           No         No  3.8/5    166   \n",
       "\n",
       "   approx_cost(for two people) listed_in(type)  \n",
       "0                          800          Buffet  \n",
       "1                          800          Buffet  \n",
       "2                          800          Buffet  \n",
       "3                          300          Buffet  \n",
       "4                          600          Buffet  "
      ]
     },
     "execution_count": 3,
     "metadata": {},
     "output_type": "execute_result"
    }
   ],
   "source": [
    "df  = pd.read_csv(\"Zomato data .csv\")\n",
    "df.head()"
   ]
  },
  {
   "cell_type": "code",
   "execution_count": null,
   "id": "0e2df473-9b57-45dc-9fef-48de7c70c282",
   "metadata": {},
   "outputs": [],
   "source": [
    "# DATA CLEANING PART"
   ]
  },
  {
   "cell_type": "code",
   "execution_count": null,
   "id": "d412270b-5a5d-4b4c-8e91-2d25cc0bef40",
   "metadata": {},
   "outputs": [],
   "source": [
    "# CONVERT THE DATA TYPE OF COLUMN-- RATE (WE WANT 4.1 INSTED OF 4.1/5) "
   ]
  },
  {
   "cell_type": "code",
   "execution_count": null,
   "id": "792dd219-c60a-4625-b9ff-d51de14a212a",
   "metadata": {},
   "outputs": [],
   "source": [
    "# WE WILL CREAT USER DEFINED FUNCTION AND APPLY IT ON WHOLE COLUMN WITH APPLY FUNCTION."
   ]
  },
  {
   "cell_type": "code",
   "execution_count": 6,
   "id": "1be658ba-03d8-4241-84e4-a339849538d9",
   "metadata": {},
   "outputs": [
    {
     "data": {
      "text/html": [
       "<div>\n",
       "<style scoped>\n",
       "    .dataframe tbody tr th:only-of-type {\n",
       "        vertical-align: middle;\n",
       "    }\n",
       "\n",
       "    .dataframe tbody tr th {\n",
       "        vertical-align: top;\n",
       "    }\n",
       "\n",
       "    .dataframe thead th {\n",
       "        text-align: right;\n",
       "    }\n",
       "</style>\n",
       "<table border=\"1\" class=\"dataframe\">\n",
       "  <thead>\n",
       "    <tr style=\"text-align: right;\">\n",
       "      <th></th>\n",
       "      <th>name</th>\n",
       "      <th>online_order</th>\n",
       "      <th>book_table</th>\n",
       "      <th>rate</th>\n",
       "      <th>votes</th>\n",
       "      <th>approx_cost(for two people)</th>\n",
       "      <th>listed_in(type)</th>\n",
       "    </tr>\n",
       "  </thead>\n",
       "  <tbody>\n",
       "    <tr>\n",
       "      <th>0</th>\n",
       "      <td>Jalsa</td>\n",
       "      <td>Yes</td>\n",
       "      <td>Yes</td>\n",
       "      <td>4.1</td>\n",
       "      <td>775</td>\n",
       "      <td>800</td>\n",
       "      <td>Buffet</td>\n",
       "    </tr>\n",
       "    <tr>\n",
       "      <th>1</th>\n",
       "      <td>Spice Elephant</td>\n",
       "      <td>Yes</td>\n",
       "      <td>No</td>\n",
       "      <td>4.1</td>\n",
       "      <td>787</td>\n",
       "      <td>800</td>\n",
       "      <td>Buffet</td>\n",
       "    </tr>\n",
       "    <tr>\n",
       "      <th>2</th>\n",
       "      <td>San Churro Cafe</td>\n",
       "      <td>Yes</td>\n",
       "      <td>No</td>\n",
       "      <td>3.8</td>\n",
       "      <td>918</td>\n",
       "      <td>800</td>\n",
       "      <td>Buffet</td>\n",
       "    </tr>\n",
       "    <tr>\n",
       "      <th>3</th>\n",
       "      <td>Addhuri Udupi Bhojana</td>\n",
       "      <td>No</td>\n",
       "      <td>No</td>\n",
       "      <td>3.7</td>\n",
       "      <td>88</td>\n",
       "      <td>300</td>\n",
       "      <td>Buffet</td>\n",
       "    </tr>\n",
       "    <tr>\n",
       "      <th>4</th>\n",
       "      <td>Grand Village</td>\n",
       "      <td>No</td>\n",
       "      <td>No</td>\n",
       "      <td>3.8</td>\n",
       "      <td>166</td>\n",
       "      <td>600</td>\n",
       "      <td>Buffet</td>\n",
       "    </tr>\n",
       "  </tbody>\n",
       "</table>\n",
       "</div>"
      ],
      "text/plain": [
       "                    name online_order book_table  rate  votes  \\\n",
       "0                  Jalsa          Yes        Yes   4.1    775   \n",
       "1         Spice Elephant          Yes         No   4.1    787   \n",
       "2        San Churro Cafe          Yes         No   3.8    918   \n",
       "3  Addhuri Udupi Bhojana           No         No   3.7     88   \n",
       "4          Grand Village           No         No   3.8    166   \n",
       "\n",
       "   approx_cost(for two people) listed_in(type)  \n",
       "0                          800          Buffet  \n",
       "1                          800          Buffet  \n",
       "2                          800          Buffet  \n",
       "3                          300          Buffet  \n",
       "4                          600          Buffet  "
      ]
     },
     "execution_count": 6,
     "metadata": {},
     "output_type": "execute_result"
    }
   ],
   "source": [
    "def ConvertRate(value):\n",
    "    value = str(value).split(\"/\")\n",
    "    value = value[0]\n",
    "    return float(value)\n",
    "df[\"rate\"] = df[\"rate\"].apply(ConvertRate)\n",
    "df.head()"
   ]
  },
  {
   "cell_type": "code",
   "execution_count": null,
   "id": "b86bdffa-650f-4830-aa87-b3df2ac3c36b",
   "metadata": {},
   "outputs": [],
   "source": [
    "# TO CHECK INFORMATION OF COLUMNS WE CAN USE INFO FUNCTIONS"
   ]
  },
  {
   "cell_type": "code",
   "execution_count": 7,
   "id": "603c811b-b94a-41b0-bd27-8073466cb2b9",
   "metadata": {},
   "outputs": [
    {
     "name": "stdout",
     "output_type": "stream",
     "text": [
      "<class 'pandas.core.frame.DataFrame'>\n",
      "RangeIndex: 148 entries, 0 to 147\n",
      "Data columns (total 7 columns):\n",
      " #   Column                       Non-Null Count  Dtype  \n",
      "---  ------                       --------------  -----  \n",
      " 0   name                         148 non-null    object \n",
      " 1   online_order                 148 non-null    object \n",
      " 2   book_table                   148 non-null    object \n",
      " 3   rate                         148 non-null    float64\n",
      " 4   votes                        148 non-null    int64  \n",
      " 5   approx_cost(for two people)  148 non-null    int64  \n",
      " 6   listed_in(type)              148 non-null    object \n",
      "dtypes: float64(1), int64(2), object(4)\n",
      "memory usage: 8.2+ KB\n"
     ]
    }
   ],
   "source": [
    "df.info()"
   ]
  },
  {
   "cell_type": "code",
   "execution_count": null,
   "id": "8a8d158b-8ef4-49dc-8d29-269c8e7206e0",
   "metadata": {},
   "outputs": [],
   "source": []
  },
  {
   "cell_type": "code",
   "execution_count": null,
   "id": "8d8ac8b0-4453-4636-9255-06f1fb0fa062",
   "metadata": {},
   "outputs": [],
   "source": []
  },
  {
   "cell_type": "markdown",
   "id": "8d84b39b-3ed6-4f0c-b6b8-e38dc14cba67",
   "metadata": {},
   "source": [
    "1) What type of restaurant do the majority of customers order from?"
   ]
  },
  {
   "cell_type": "code",
   "execution_count": null,
   "id": "76dfcd34-4650-4173-881a-8f037cb176d4",
   "metadata": {},
   "outputs": [],
   "source": [
    "# NOW WE WILL CREATE TYPE OF RESTURENT WE HAVE BY COUNT PLOT"
   ]
  },
  {
   "cell_type": "code",
   "execution_count": 45,
   "id": "bf6ae027-32d6-46c6-ad2d-bab77d55c85b",
   "metadata": {},
   "outputs": [
    {
     "data": {
      "text/plain": [
       "Text(0.5, 0, 'Type of resturent')"
      ]
     },
     "execution_count": 45,
     "metadata": {},
     "output_type": "execute_result"
    },
    {
     "data": {
      "image/png": "[encoded data removed]",
      "text/plain": [
       "<Figure size 640x480 with 1 Axes>"
      ]
     },
     "metadata": {},
     "output_type": "display_data"
    }
   ],
   "source": [
    "sns.countplot(x = df['listed_in(type)'])\n",
    "plt.xlabel(\"Type of resturent\")"
   ]
  },
  {
   "cell_type": "code",
   "execution_count": null,
   "id": "ca108855-d021-4742-b5e0-ad3005ed5c4d",
   "metadata": {},
   "outputs": [],
   "source": [
    "# CONCLUSIN OF ABOVE CHART IS  -- MAJORITY OF RESTURENTS FALLS IN DINNING  CATEGORY"
   ]
  },
  {
   "cell_type": "code",
   "execution_count": null,
   "id": "9d9cd2af-7c39-4e22-927a-f77cd2bf7588",
   "metadata": {},
   "outputs": [],
   "source": []
  },
  {
   "cell_type": "code",
   "execution_count": null,
   "id": "6bd0e769-b452-4c55-8363-7eb4a4740f2e",
   "metadata": {},
   "outputs": [],
   "source": []
  },
  {
   "cell_type": "markdown",
   "id": "12eb0892-0e1e-43cd-abe7-5fe044826460",
   "metadata": {},
   "source": [
    "2) How many votes has each type of restaurant received from customers?"
   ]
  },
  {
   "cell_type": "code",
   "execution_count": null,
   "id": "43494901-82ba-47e8-a73f-5d045e57619b",
   "metadata": {},
   "outputs": [],
   "source": [
    "# NOW WE CREATE LINE CHART BY USING GROUP BY FUNCTION ON (LISTED IN TYPE) COLUMN AND USING SUM FUNCION ON (VOTES) COLUMN"
   ]
  },
  {
   "cell_type": "code",
   "execution_count": 49,
   "id": "b6b02bb4-edfb-455b-8e42-484b6697818e",
   "metadata": {},
   "outputs": [
    {
     "data": {
      "text/plain": [
       "Text(0, 0.5, 'votes')"
      ]
     },
     "execution_count": 49,
     "metadata": {},
     "output_type": "execute_result"
    },
    {
     "data": {
      "image/png": "[encoded data removed]",
      "text/plain": [
       "<Figure size 640x480 with 1 Axes>"
      ]
     },
     "metadata": {},
     "output_type": "display_data"
    }
   ],
   "source": [
    "grouped_data = df.groupby('listed_in(type)')[\"votes\"].sum()\n",
    "result = pd.DataFrame({\"votes\": grouped_data})\n",
    "plt.plot(result , c = \"blue\", marker = \"o\" )\n",
    "plt.xlabel(\"Type of resturent\" , c = \"red\", size = 20)\n",
    "plt.ylabel(\"votes\", c = \"red\", size = 20)"
   ]
  },
  {
   "cell_type": "code",
   "execution_count": null,
   "id": "5ebc72a2-8568-4a3c-a4ca-f5c64d4cf8a2",
   "metadata": {},
   "outputs": [],
   "source": [
    "# CONCLUSION OF ABOVE CHARTS IS -- DINNING RESTURANTS HAS RECIEVED MAXIMUM VOTES"
   ]
  },
  {
   "cell_type": "code",
   "execution_count": null,
   "id": "7b484bca-f43e-4dd0-95de-b15c768025ff",
   "metadata": {},
   "outputs": [],
   "source": []
  },
  {
   "cell_type": "code",
   "execution_count": null,
   "id": "d64a5d17-aec7-4237-9733-0e71d69b32f6",
   "metadata": {},
   "outputs": [],
   "source": []
  },
  {
   "cell_type": "markdown",
   "id": "5e3725cd-e944-42fe-9789-13d14ce8c638",
   "metadata": {},
   "source": [
    "3) What are the ratings that the majority of restaurants have received?"
   ]
  },
  {
   "cell_type": "code",
   "execution_count": 51,
   "id": "8333cddf-2508-4fb0-bfb9-a5db3bc3ee00",
   "metadata": {},
   "outputs": [
    {
     "data": {
      "image/png": "[encoded data removed]",
      "text/plain": [
       "<Figure size 640x480 with 1 Axes>"
      ]
     },
     "metadata": {},
     "output_type": "display_data"
    }
   ],
   "source": [
    "plt.hist(df[\"rate\"],bins = 5)\n",
    "plt.title(\"Rating Distribution\")\n",
    "plt.show()"
   ]
  },
  {
   "cell_type": "code",
   "execution_count": null,
   "id": "6a8a492a-1d4e-440f-9247-528db26e66fa",
   "metadata": {},
   "outputs": [],
   "source": [
    "# CONCLUSION OF ABOVE CHART IS --  THE MAJORITY OF THE RESTURANTS HAVE RECIEVED RATINGS BETWEEN 3.5 TO 4"
   ]
  },
  {
   "cell_type": "code",
   "execution_count": null,
   "id": "968aac02-7e36-43e6-84e0-c4d517457b1b",
   "metadata": {},
   "outputs": [],
   "source": []
  },
  {
   "cell_type": "code",
   "execution_count": null,
   "id": "1def96c9-80c5-47be-9d82-d98be46d70da",
   "metadata": {},
   "outputs": [],
   "source": []
  },
  {
   "cell_type": "markdown",
   "id": "8430a4e1-d707-4cab-8620-1b24d8d46ed7",
   "metadata": {},
   "source": [
    "4)Zomato has observed that most couples order most of their food online. What is their\n",
    "average spending on each order?"
   ]
  },
  {
   "cell_type": "code",
   "execution_count": null,
   "id": "d76fb5e7-a59f-48cc-8851-edfa1641bfba",
   "metadata": {},
   "outputs": [],
   "source": [
    "# WE WILL USE COUNTPLOT TO SEE COUNT IN  VISUALIZATION FORM"
   ]
  },
  {
   "cell_type": "code",
   "execution_count": 53,
   "id": "209bf527-0bb2-4f49-9aec-67eef65a7f96",
   "metadata": {},
   "outputs": [
    {
     "data": {
      "text/plain": [
       "<Axes: xlabel='approx_cost(for two people)', ylabel='count'>"
      ]
     },
     "execution_count": 53,
     "metadata": {},
     "output_type": "execute_result"
    },
    {
     "data": {
      "image/png": "[encoded data removed]",
      "text/plain": [
       "<Figure size 640x480 with 1 Axes>"
      ]
     },
     "metadata": {},
     "output_type": "display_data"
    }
   ],
   "source": [
    "couple_data = df[\"approx_cost(for two people)\"]\n",
    "sns.countplot(x = couple_data)"
   ]
  },
  {
   "cell_type": "code",
   "execution_count": null,
   "id": "06c5a21c-acc8-4944-a709-d77d2c29076d",
   "metadata": {},
   "outputs": [],
   "source": [
    "# CONCLUSION OF ABOVE CHART IS --  The Majority of couples preferrs resturant with an approximate cost of 300rs"
   ]
  },
  {
   "cell_type": "code",
   "execution_count": null,
   "id": "5729fcbb-f9b3-48ba-8a7b-3cafda7aa543",
   "metadata": {},
   "outputs": [],
   "source": []
  },
  {
   "cell_type": "code",
   "execution_count": null,
   "id": "a31f1ba8-b0af-4677-8ccf-4cd351f34972",
   "metadata": {},
   "outputs": [],
   "source": []
  },
  {
   "cell_type": "markdown",
   "id": "eb5b6876-f613-4ac3-9305-6fe4d47c9181",
   "metadata": {},
   "source": [
    "5) Which mode (online or offline) has received the maximum rating?"
   ]
  },
  {
   "cell_type": "code",
   "execution_count": 61,
   "id": "543a2be7-2a93-4da3-80fa-b0a879a8da20",
   "metadata": {},
   "outputs": [
    {
     "data": {
      "text/plain": [
       "<Axes: xlabel='online_order', ylabel='rate'>"
      ]
     },
     "execution_count": 61,
     "metadata": {},
     "output_type": "execute_result"
    },
    {
     "data": {
      "image/png": "[encoded data removed]",
      "text/plain": [
       "<Figure size 600x600 with 1 Axes>"
      ]
     },
     "metadata": {},
     "output_type": "display_data"
    }
   ],
   "source": [
    "plt.figure(figsize = (6,6))\n",
    "sns.boxplot(x = 'online_order', y = 'rate' , data = df)"
   ]
  },
  {
   "cell_type": "code",
   "execution_count": null,
   "id": "c1283a6f-9680-4d81-8445-f6b4bed873fb",
   "metadata": {},
   "outputs": [],
   "source": [
    "# CONCLUSION OF ABOVE CHART IS --   Above graph shows that Offline Orders recieved lower ratings as Compaire to Online Orders"
   ]
  },
  {
   "cell_type": "code",
   "execution_count": null,
   "id": "c0ece089-00fe-4e26-8700-e0d2a2bea9d5",
   "metadata": {},
   "outputs": [],
   "source": []
  },
  {
   "cell_type": "code",
   "execution_count": null,
   "id": "e931ba57-ea1c-45ae-8738-34ef56a9d992",
   "metadata": {},
   "outputs": [],
   "source": []
  },
  {
   "cell_type": "code",
   "execution_count": null,
   "id": "533a6818-223e-45cd-aecb-e894d548ebfd",
   "metadata": {},
   "outputs": [],
   "source": [
    "# 6) Which type of restaurant received more offline orders, so that Zomato can provide those\n",
    " # customers with some good offers?"
   ]
  },
  {
   "cell_type": "code",
   "execution_count": 68,
   "id": "ac888fd7-6925-4b6d-9753-1dc9c63ed210",
   "metadata": {},
   "outputs": [
    {
     "data": {
      "image/png": "[encoded data removed]",
      "text/plain": [
       "<Figure size 640x480 with 2 Axes>"
      ]
     },
     "metadata": {},
     "output_type": "display_data"
    }
   ],
   "source": [
    "pivot_table = df.pivot_table(index = 'listed_in(type)', columns = 'online_order' , aggfunc = 'size' , fill_value = 0)\n",
    "sns.heatmap(pivot_table , annot = True  , cmap = 'coolwarm' , fmt = 'd')\n",
    "plt.title(\"Heatmap\")\n",
    "plt.xlabel(\"Online Order\")\n",
    "plt.ylabel('listed_in(type)')\n",
    "plt.show()"
   ]
  },
  {
   "cell_type": "code",
   "execution_count": null,
   "id": "2121233b-b8c8-4c18-a6a8-700e531625ac",
   "metadata": {},
   "outputs": [],
   "source": [
    "# # CONCLUSION OF ABOVE CHART IS --   Above graph shows that Dinning resturants Primarily recieved offline Orders \n",
    "# and Cafe Primarily recieved Online Orders. \n",
    "# So this Suggest that People prefers orders in person at resturants,but Online Ordering in Cafe.\n"
   ]
  },
  {
   "cell_type": "code",
   "execution_count": null,
   "id": "221b488a-f6eb-45d8-bc39-a3ff65e5bd81",
   "metadata": {},
   "outputs": [],
   "source": []
  },
  {
   "cell_type": "code",
   "execution_count": null,
   "id": "8d3719a0-d5f8-4fb5-8c09-29556d4edd6d",
   "metadata": {},
   "outputs": [],
   "source": []
  },
  {
   "cell_type": "code",
   "execution_count": null,
   "id": "29603c1b-073c-4184-934b-97a478396465",
   "metadata": {},
   "outputs": [],
   "source": []
  },
  {
   "cell_type": "code",
   "execution_count": null,
   "id": "156018a8-e3ca-4caa-bb8a-c1886203c1ae",
   "metadata": {},
   "outputs": [],
   "source": []
  },
  {
   "cell_type": "code",
   "execution_count": null,
   "id": "8b186f4a-5254-467b-96c9-f081339379c7",
   "metadata": {},
   "outputs": [],
   "source": []
  },
  {
   "cell_type": "code",
   "execution_count": null,
   "id": "354787b5-8785-4ef2-9114-e04d1f0c5a69",
   "metadata": {},
   "outputs": [],
   "source": []
  },
  {
   "cell_type": "code",
   "execution_count": null,
   "id": "7bcee723-013d-4983-ae65-72c43f57dfe0",
   "metadata": {},
   "outputs": [],
   "source": []
  },
  {
   "cell_type": "code",
   "execution_count": null,
   "id": "a9276b89-1a9b-41d2-a49d-4d78cfee6285",
   "metadata": {},
   "outputs": [],
   "source": []
  },
  {
   "cell_type": "code",
   "execution_count": null,
   "id": "316d575d-93b0-4008-88bf-dbd03f068c4d",
   "metadata": {},
   "outputs": [],
   "source": []
  },
  {
   "cell_type": "code",
   "execution_count": null,
   "id": "ffe799c6-45b2-433c-87ba-8b730aea50c9",
   "metadata": {},
   "outputs": [],
   "source": []
  },
  {
   "cell_type": "code",
   "execution_count": null,
   "id": "132ab816-3f9a-4b0a-8af2-12616c62fba5",
   "metadata": {},
   "outputs": [],
   "source": []
  },
  {
   "cell_type": "code",
   "execution_count": null,
   "id": "96a225d6-651b-46b6-9e96-ad7a94e197cc",
   "metadata": {},
   "outputs": [],
   "source": []
  },
  {
   "cell_type": "code",
   "execution_count": null,
   "id": "9f4543c0-a1d8-4445-a25a-45bdf99a3727",
   "metadata": {},
   "outputs": [],
   "source": []
  },
  {
   "cell_type": "code",
   "execution_count": null,
   "id": "9273795f-2ada-498a-a6c4-c5cdfceaad41",
   "metadata": {},
   "outputs": [],
   "source": []
  },
  {
   "cell_type": "code",
   "execution_count": null,
   "id": "9ae21b76-825b-4771-83a9-18c0bb77a01f",
   "metadata": {},
   "outputs": [],
   "source": []
  },
  {
   "cell_type": "code",
   "execution_count": null,
   "id": "483f063f-6751-4bb5-ac2c-9ca90a71c6f1",
   "metadata": {},
   "outputs": [],
   "source": []
  },
  {
   "cell_type": "code",
   "execution_count": null,
   "id": "729ebbd1-7365-498e-9c24-23f219b5598c",
   "metadata": {},
   "outputs": [],
   "source": []
  },
  {
   "cell_type": "code",
   "execution_count": null,
   "id": "41f0e0ce-6726-4abf-a9ea-86fc0926bc95",
   "metadata": {},
   "outputs": [],
   "source": []
  },
  {
   "cell_type": "code",
   "execution_count": null,
   "id": "2893f868-ba36-4cd2-a404-a56d64a5aea9",
   "metadata": {},
   "outputs": [],
   "source": []
  },
  {
   "cell_type": "code",
   "execution_count": null,
   "id": "abe2cfb0-0c1c-45f9-84eb-fd1bb09b99af",
   "metadata": {},
   "outputs": [],
   "source": []
  },
  {
   "cell_type": "code",
   "execution_count": null,
   "id": "20f39a76-2c67-4f58-a3b5-6565e122203e",
   "metadata": {},
   "outputs": [],
   "source": []
  },
  {
   "cell_type": "code",
   "execution_count": null,
   "id": "7b5d2997-25a9-4143-8a18-6dc33da9f83b",
   "metadata": {},
   "outputs": [],
   "source": []
  },
  {
   "cell_type": "code",
   "execution_count": null,
   "id": "58934ec8-8d34-480a-82fe-d2d2b7568396",
   "metadata": {},
   "outputs": [],
   "source": []
  },
  {
   "cell_type": "code",
   "execution_count": null,
   "id": "e9dd94fe-01ed-4438-bd7e-900fc9ceea60",
   "metadata": {},
   "outputs": [],
   "source": []
  },
  {
   "cell_type": "code",
   "execution_count": null,
   "id": "6a884cd9-af32-4415-af28-0c35a6be37be",
   "metadata": {},
   "outputs": [],
   "source": []
  },
  {
   "cell_type": "code",
   "execution_count": null,
   "id": "be9008e9-2621-4225-80b0-da1d10ba4f05",
   "metadata": {},
   "outputs": [],
   "source": []
  },
  {
   "cell_type": "code",
   "execution_count": null,
   "id": "9457cb82-05a8-42c9-8187-00437ad29e56",
   "metadata": {},
   "outputs": [],
   "source": []
  },
  {
   "cell_type": "code",
   "execution_count": null,
   "id": "9806b4c7-b901-4d50-937d-215884ec768c",
   "metadata": {},
   "outputs": [],
   "source": []
  },
  {
   "cell_type": "code",
   "execution_count": null,
   "id": "ca4d26cd-617a-4e0b-80b6-3ba20879b884",
   "metadata": {},
   "outputs": [],
   "source": []
  },
  {
   "cell_type": "code",
   "execution_count": null,
   "id": "5f873017-0740-4d0f-ba38-a74b2ab046fa",
   "metadata": {},
   "outputs": [],
   "source": []
  },
  {
   "cell_type": "code",
   "execution_count": null,
   "id": "9c962eb7-0e65-43d7-b22b-9c1c279206e5",
   "metadata": {},
   "outputs": [],
   "source": []
  },
  {
   "cell_type": "code",
   "execution_count": null,
   "id": "bed68dd7-c115-44e6-afa5-60493f9cc5b8",
   "metadata": {},
   "outputs": [],
   "source": []
  },
  {
   "cell_type": "code",
   "execution_count": null,
   "id": "80aa31b5-0fdc-45f1-8395-7f2496118a1a",
   "metadata": {},
   "outputs": [],
   "source": []
  },
  {
   "cell_type": "code",
   "execution_count": null,
   "id": "ad4da47f-f0db-40bb-8731-66164cf0d56c",
   "metadata": {},
   "outputs": [],
   "source": []
  },
  {
   "cell_type": "code",
   "execution_count": null,
   "id": "a0e24564-a35f-4e1f-94f7-ab9470df5336",
   "metadata": {},
   "outputs": [],
   "source": []
  }
 ],
 "metadata": {
  "kernelspec": {
   "display_name": "Python 3 (ipykernel)",
   "language": "python",
   "name": "python3"
  },
  "language_info": {
   "codemirror_mode": {
    "name": "ipython",
    "version": 3
   },
   "file_extension": ".py",
   "mimetype": "text/x-python",
   "name": "python",
   "nbconvert_exporter": "python",
   "pygments_lexer": "ipython3",
   "version": "3.12.1"
  }
 },
 "nbformat": 4,
 "nbformat_minor": 5
}
